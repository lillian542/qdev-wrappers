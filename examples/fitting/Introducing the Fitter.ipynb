{
 "cells": [
  {
   "cell_type": "code",
   "execution_count": 1,
   "metadata": {},
   "outputs": [
    {
     "name": "stderr",
     "output_type": "stream",
     "text": [
      "/Users/natalie/Documents/PhD/Qdev/QdevWrappers/qdev_wrappers/logger.py:16: UserWarning: The logger.py of qdev-wrappers is deprecated and will be removed soon. Please use the logger of QCoDeS instead.\n",
      "  warnings.warn('The logger.py of qdev-wrappers is deprecated and will be '\n"
     ]
    }
   ],
   "source": [
    "from qdev_wrappers.fitting.base import Fitter\n",
    "import matplotlib.pyplot as plt\n",
    "%matplotlib inline\n",
    "import numpy as np\n",
    "import scipy.fftpack as fftpack"
   ]
  },
  {
   "cell_type": "markdown",
   "metadata": {},
   "source": [
    "## What is a Fitter?\n",
    "It's an instrument that can perform fits for you. It includes\n",
    "- **fit_parameters channel** for parameters which are learned by performing the fit\n",
    "- **success** parameter to indicate if the fit was successful (0 or 1)\n",
    "- **fit function** which given data should perfom the fit and (minimally) update the fit_parameters and success\n",
    "- **metadata dictionary** about the fitter with keys (minimally) 'method', 'name', 'function', and 'fit_parameters'. 'method' and 'name' should have string values, 'fit_parameters' is a list of the names of the fit_parameters and 'function' is a dictionary with (minimally) 'str' which should have a string value describing the fit function\n",
    "\n",
    "On initialisation it requires a name, fit_parameter specifications in a dictionary and function metadata dictionary\n",
    "\n",
    "### Example...\n",
    "...of writing your own fitter"
   ]
  },
  {
   "cell_type": "code",
   "execution_count": 2,
   "metadata": {},
   "outputs": [],
   "source": [
    "class SimpleMinimumFitter(Fitter):\n",
    "    def __init__(self, name='SimpleMinimumFitter'):\n",
    "        fit_parameters = {'location': {'label': 'location of minimum'},\n",
    "                          'value': {'label': 'minimum value'}}\n",
    "        function_metadata = {'str': 'find minimum (simple)'}\n",
    "        super().__init__(name, fit_parameters, method='SimpleMinimum',\n",
    "                         function=function_metadata)\n",
    "\n",
    "    def fit(self, measured_values, experiment_values):\n",
    "        self._check_fit(measured_values, experiment_values)\n",
    "        min_index = np.argmin(measured_values)\n",
    "        self.fit_parameters.location._save_val(experiment_values[min_index])\n",
    "        self.fit_parameters.value._save_val(measured_values[min_index])\n",
    "        self.success._save_val(1)"
   ]
  },
  {
   "cell_type": "code",
   "execution_count": 3,
   "metadata": {},
   "outputs": [],
   "source": [
    "simple_minimum_fitter = SimpleMinimumFitter()"
   ]
  },
  {
   "cell_type": "markdown",
   "metadata": {},
   "source": [
    "Check it has the fit_parameter channel with the specified parameters on it and a success parameter initialised in 0"
   ]
  },
  {
   "cell_type": "code",
   "execution_count": 4,
   "metadata": {},
   "outputs": [
    {
     "name": "stdout",
     "output_type": "stream",
     "text": [
      "fit_parameters:  ['location', 'value']\n",
      "success =  0\n"
     ]
    }
   ],
   "source": [
    "print('fit_parameters: ', list(simple_minimum_fitter.fit_parameters.parameters.keys()))\n",
    "print('success = ', simple_minimum_fitter.success())"
   ]
  },
  {
   "cell_type": "markdown",
   "metadata": {},
   "source": [
    "Try finding the minimum of some 'data'"
   ]
  },
  {
   "cell_type": "code",
   "execution_count": 5,
   "metadata": {},
   "outputs": [
    {
     "name": "stdout",
     "output_type": "stream",
     "text": [
      "location: 7\n",
      "value: 1\n",
      "\n",
      "success:  1\n"
     ]
    }
   ],
   "source": [
    "data = np.array([10, 9, 8, 3, 6, 3, 2, 1, 3, 4, 6, 7, 8])\n",
    "x = np.arange(len(data))\n",
    "simple_minimum_fitter.fit(data, x)\n",
    "print('\\n'.join(f'{k}: {v()}' for k, v in simple_minimum_fitter.fit_parameters.parameters.items()))\n",
    "print('\\nsuccess: ', simple_minimum_fitter.success())"
   ]
  },
  {
   "cell_type": "code",
   "execution_count": 6,
   "metadata": {},
   "outputs": [
    {
     "data": {
      "text/plain": [
       "Text(0, 0.5, 'some measured value')"
      ]
     },
     "execution_count": 6,
     "metadata": {},
     "output_type": "execute_result"
    },
    {
     "data": {
      "image/png": "[encoded data removed]",
      "text/plain": [
       "<Figure size 432x288 with 1 Axes>"
      ]
     },
     "metadata": {
      "needs_background": "light"
     },
     "output_type": "display_data"
    }
   ],
   "source": [
    "fig = plt.figure()\n",
    "plt.plot(x, data, label='data')\n",
    "x = simple_minimum_fitter.fit_parameters.location()\n",
    "y = simple_minimum_fitter.fit_parameters.value()\n",
    "plt.plot(x, y, 'r.', label=f'minimum @ ({x}, {y})')\n",
    "plt.legend()\n",
    "plt.xlabel('some variable')\n",
    "plt.ylabel('some measured value')"
   ]
  },
  {
   "cell_type": "markdown",
   "metadata": {},
   "source": [
    "Handily this fitter is already in the module so you can just import it as below for the same effect :)"
   ]
  },
  {
   "cell_type": "code",
   "execution_count": 7,
   "metadata": {},
   "outputs": [],
   "source": [
    "from qdev_wrappers.fitting.fitters import SimpleMinimumFitter"
   ]
  },
  {
   "cell_type": "markdown",
   "metadata": {},
   "source": [
    "## Least Squares fitting\n",
    "\n",
    "If we want to do a least squares fit it gets a little bit more complicated so we wrote a subclass which has the additional features:\n",
    "- **variance_parameters channel** to store the variance on each fit parameter\n",
    "- **initial_value_parameters channel** to store the initial values used in the least squares optimization\n",
    "- **evaluate function** function to be fit to. This will just evaluate the metadata['function']['np'] string with the fit parameters and experiment parameter input\n",
    "- optionally a **guess function** to generate the initial_values for the least squares fit if none provided\n",
    "- the addition of variance_parameters, initial_value_parameters, and the 'np' description of the function to the **metadata**\n",
    "\n",
    "You need again need subclass this, specifying the fit parameters (as before) and function metadata. Note that the  'np' function metadata string is evaluated and optimised over so it must be runnable once all the fit_parameters and 'x' are specified. The order of the fit_parameters must match the order of appearance of the parameters in this funciton.\n",
    "\n",
    "### Example"
   ]
  },
  {
   "cell_type": "code",
   "execution_count": 8,
   "metadata": {},
   "outputs": [],
   "source": [
    "from qdev_wrappers.fitting.base import LeastSquaresFitter\n",
    "\n",
    "class CosineFitter(LeastSquaresFitter):\n",
    "    def __init__(self, name='CosineFitter'):\n",
    "        fit_parameters = {'a': {'label': '$a$'},\n",
    "                          'w': {'label': r'$\\omega$', 'unit': 'Hz'},\n",
    "                          'p': {'label': r'$\\phi$'},\n",
    "                          'c': {'label': '$c$', 'unit': ''}}\n",
    "        function_metadata = {'str': r'$f(x) = a\\cos(\\omega x + \\phi)+c$',\n",
    "                             'np': 'a * np.cos(w * x + p) + c'}\n",
    "        super().__init__(name, fit_parameters, function_metadata)"
   ]
  },
  {
   "cell_type": "code",
   "execution_count": 9,
   "metadata": {},
   "outputs": [],
   "source": [
    "cosine_fitter = CosineFitter()"
   ]
  },
  {
   "cell_type": "markdown",
   "metadata": {},
   "source": [
    "Again check out the channels and parameters"
   ]
  },
  {
   "cell_type": "code",
   "execution_count": 10,
   "metadata": {},
   "outputs": [
    {
     "name": "stdout",
     "output_type": "stream",
     "text": [
      "fit_parameters:  ['a', 'w', 'p', 'c']\n",
      "variance_parameters:  ['a_variance', 'w_variance', 'p_variance', 'c_variance']\n",
      "initial_value_parameters:  ['a_initial_value', 'w_initial_value', 'p_initial_value', 'c_initial_value']\n",
      "success =  0\n"
     ]
    }
   ],
   "source": [
    "print('fit_parameters: ', list(cosine_fitter.fit_parameters.parameters.keys()))\n",
    "print('variance_parameters: ', list(cosine_fitter.variance_parameters.parameters.keys()))\n",
    "print('initial_value_parameters: ', list(cosine_fitter.initial_value_parameters.parameters.keys()))\n",
    "print('success = ', cosine_fitter.success())"
   ]
  },
  {
   "cell_type": "markdown",
   "metadata": {},
   "source": [
    "Try finding parameter values of some 'data'"
   ]
  },
  {
   "cell_type": "code",
   "execution_count": 11,
   "metadata": {},
   "outputs": [],
   "source": [
    "a, w, p, c = 1., 0.5, np.pi/4, 0.3\n",
    "x = np.arange(30)\n",
    "data = a * np.cos(w * x + p) + c + (np.random.random(len(x)) - 0.5) / 3"
   ]
  },
  {
   "cell_type": "code",
   "execution_count": 12,
   "metadata": {},
   "outputs": [
    {
     "name": "stdout",
     "output_type": "stream",
     "text": [
      "actual_values:\n",
      "a: 1.0\n",
      "w: 0.5\n",
      "p: 0.785\n",
      "c: 0.3\n",
      "\n",
      "fit_values:\n",
      "a: 0.985\n",
      "w: 0.502\n",
      "p: 0.738\n",
      "c: 0.288\n",
      "\n",
      "fit_variances:\n",
      "a_variance: 0.000817\n",
      "w_variance: 9.86e-06\n",
      "p_variance: 0.00278\n",
      "c_variance: 0.000401\n",
      "\n",
      "success:  1\n"
     ]
    }
   ],
   "source": [
    "cosine_fitter.fit(data, x, initial_values=(1, 0.4, np.pi/2, 0.1))\n",
    "print('actual_values:')\n",
    "print(f'a: {a:.3}\\nw: {w:.3}\\np: {p:.3}\\nc: {c:.3}\\n')\n",
    "print('fit_values:')\n",
    "print('\\n'.join(f'{k}: {v():.3}' for k, v in cosine_fitter.fit_parameters.parameters.items()))\n",
    "print('\\nfit_variances:')\n",
    "print('\\n'.join(f'{k}: {v():.3}' for k, v in cosine_fitter.variance_parameters.parameters.items()))\n",
    "print('\\nsuccess: ', cosine_fitter.success())"
   ]
  },
  {
   "cell_type": "code",
   "execution_count": 13,
   "metadata": {},
   "outputs": [
    {
     "data": {
      "text/plain": [
       "Text(0, 0.5, 'some measured value')"
      ]
     },
     "execution_count": 13,
     "metadata": {},
     "output_type": "execute_result"
    },
    {
     "data": {
      "image/png": "[encoded data removed]",
      "text/plain": [
       "<Figure size 432x288 with 1 Axes>"
      ]
     },
     "metadata": {
      "needs_background": "light"
     },
     "output_type": "display_data"
    }
   ],
   "source": [
    "fig = plt.figure()\n",
    "plt.plot(x, data, label='data')\n",
    "fit_values = [v() for v in cosine_fitter.fit_parameters.parameters.values()]\n",
    "plt.plot(x, cosine_fitter.evaluate(x, *fit_values), label='fit')\n",
    "plt.legend()\n",
    "plt.xlabel('some variable')\n",
    "plt.ylabel('some measured value')"
   ]
  },
  {
   "cell_type": "markdown",
   "metadata": {},
   "source": [
    "Note that I could equally have generated the pretend data by using the 'evaluate' function on the cosine fitter and adding noise to it."
   ]
  },
  {
   "cell_type": "markdown",
   "metadata": {},
   "source": [
    "#### Fit failure\n",
    "As you can see I used the initial_values kwarg to provide a guess for the fitter (if None provided then all will be 1). If I make my guess a lot worse the fit will be much worse. The fit is still called a 'success' unless the least-squares minimization fails. However looking at the variance parameters tells us it's not very good! Have a play with the initial_values and see if you can get it to fail. It is possible to condition the fit success on whether any of the variances are infinite using the variance_limited kwarg.\n",
    "\n",
    "If the fit fails the fit_values and variance values are stored as nan"
   ]
  },
  {
   "cell_type": "code",
   "execution_count": 14,
   "metadata": {},
   "outputs": [
    {
     "name": "stdout",
     "output_type": "stream",
     "text": [
      "actual_values:\n",
      "a: 1.0\n",
      "w: 0.5\n",
      "p: 0.785\n",
      "c: 0.3\n",
      "\n",
      "fit_values:\n",
      "a: -0.0177\n",
      "w: 1e+04\n",
      "p: 1e+07\n",
      "c: 0.266\n",
      "\n",
      "standard deviation:\n",
      "a: 0.196\n",
      "w: 0.000643\n",
      "p: 0.0117\n",
      "c: 0.135\n",
      "\n",
      "success:  1\n"
     ]
    }
   ],
   "source": [
    "initial_values = (1e10, 1e4, 1e7, 1e10)\n",
    "\n",
    "cosine_fitter.fit(data, x, initial_values=initial_values, variance_limited=True)\n",
    "print('actual_values:')\n",
    "print(f'a: {a:.3}\\nw: {w:.3}\\np: {p:.3}\\nc: {c:.3}\\n')\n",
    "print('fit_values:')\n",
    "print('\\n'.join(f'{k}: {v():.3}' for k, v in cosine_fitter.fit_parameters.parameters.items()))\n",
    "print('\\nstandard deviation:')\n",
    "print('\\n'.join(\n",
    "    f'{k.split(\"_\")[0]}: {np.sqrt(v()):.3}' for k, v in cosine_fitter.variance_parameters.parameters.items()))\n",
    "print('\\nsuccess: ', cosine_fitter.success())"
   ]
  },
  {
   "cell_type": "markdown",
   "metadata": {},
   "source": [
    "It is also possible to limit based on the r^{2} value which measures the distance of the fit from the estimate and is 1 if the fit matches the data exactly and is < 1 otherwise. Try playing with the r2 limit to make the fit fail"
   ]
  },
  {
   "cell_type": "code",
   "execution_count": 15,
   "metadata": {},
   "outputs": [
    {
     "name": "stdout",
     "output_type": "stream",
     "text": [
      "actual_values:\n",
      "a: 1.0\n",
      "w: 0.5\n",
      "p: 0.785\n",
      "c: 0.3\n",
      "\n",
      "fit_values:\n",
      "a: nan\n",
      "w: nan\n",
      "p: nan\n",
      "c: nan\n",
      "\n",
      "standard deviation:\n",
      "a: nan\n",
      "w: nan\n",
      "p: nan\n",
      "c: nan\n",
      "\n",
      "success:  0\n"
     ]
    },
    {
     "name": "stderr",
     "output_type": "stream",
     "text": [
      "/Users/natalie/Documents/PhD/Qdev/QdevWrappers/qdev_wrappers/fitting/base.py:170: UserWarning: Fit failed due to: r2 0.98 exceeds limit 0.99\n",
      "  warnings.warn('Fit failed due to: ' + message)\n"
     ]
    }
   ],
   "source": [
    "r2_limit = 0.99\n",
    "\n",
    "cosine_fitter.fit(data, x, initial_values=(1, 0.4, np.pi/2, 0.1), r2_limit=r2_limit)\n",
    "print('actual_values:')\n",
    "print(f'a: {a:.3}\\nw: {w:.3}\\np: {p:.3}\\nc: {c:.3}\\n')\n",
    "print('fit_values:')\n",
    "print('\\n'.join(f'{k}: {v():.3}' for k, v in cosine_fitter.fit_parameters.parameters.items()))\n",
    "print('\\nstandard deviation:')\n",
    "print('\\n'.join(\n",
    "    f'{k.split(\"_\")[0]}: {np.sqrt(v()):.3}' for k, v in cosine_fitter.variance_parameters.parameters.items()))\n",
    "print('\\nsuccess: ', cosine_fitter.success())"
   ]
  },
  {
   "cell_type": "markdown",
   "metadata": {},
   "source": [
    "#### Adding a guess function\n",
    "Instead of always having to provide initial_values or hoping that 1s are good enough I can use a function to give good initial guesses. Adding this to the fitter means that if I don't provide initial_values this function will be used to generate initial values."
   ]
  },
  {
   "cell_type": "code",
   "execution_count": 16,
   "metadata": {},
   "outputs": [
    {
     "name": "stdout",
     "output_type": "stream",
     "text": [
      "a_initial_value: 1.0\n",
      "w_initial_value: 1.0\n",
      "p_initial_value: 1.0\n",
      "c_initial_value: 1.0\n"
     ]
    }
   ],
   "source": [
    "cosine_fitter.fit(data, x)\n",
    "print('\\n'.join(f'{k}: {v():.3}' for k, v in cosine_fitter.initial_value_parameters.parameters.items()))"
   ]
  },
  {
   "cell_type": "code",
   "execution_count": 17,
   "metadata": {},
   "outputs": [],
   "source": [
    "def guess_cosine(y, x):\n",
    "    \"\"\"Guess for y = a * cos(wx + p) + c\"\"\"\n",
    "    c = y.mean()\n",
    "    a = (y.max() - y.min()) / 2\n",
    "    # Get initial guess for frequency from a fourier transform\n",
    "    yhat = fftpack.rfft(y - y.mean())\n",
    "    idx = (yhat ** 2).argmax()\n",
    "    freqs = fftpack.rfftfreq(len(x), d=(x[1] - x[0]) / (2 * np.pi))\n",
    "    w = freqs[idx]\n",
    "    if (y[0] - c) / a > 1:\n",
    "        p = 0\n",
    "    elif (y[0] - c) / a < -1:\n",
    "        p = np.pi\n",
    "    else:\n",
    "        p = np.arccos((y[0] - c) / a)\n",
    "    return [a, w, p, c]\n",
    "\n",
    "cosine_fitter.guess = guess_cosine"
   ]
  },
  {
   "cell_type": "code",
   "execution_count": 18,
   "metadata": {},
   "outputs": [
    {
     "name": "stdout",
     "output_type": "stream",
     "text": [
      "a_initial_value: 1.06\n",
      "w_initial_value: 0.419\n",
      "p_initial_value: 0.679\n",
      "c_initial_value: 0.267\n"
     ]
    }
   ],
   "source": [
    "cosine_fitter.fit(data, x)\n",
    "print('\\n'.join(f'{k}: {v():.3}' for k, v in cosine_fitter.initial_value_parameters.parameters.items()))"
   ]
  },
  {
   "cell_type": "markdown",
   "metadata": {},
   "source": [
    "Again you will be pleased to hear that a selection of fitters and a library of guess functions already exist in qdev_wrappers.fitting.fitters and qdev_wrappers.fitting.guess respectively so I can just import the CosineFitter (which uses the guess function above) from there. Also there:\n",
    "- T1Fitter\n",
    "- BenchmarkingFitter\n",
    "- CosineFitter\n",
    "- DecayingRabisFitter\n",
    "\n",
    "Feel free to add more if you make up some useful ones :)"
   ]
  },
  {
   "cell_type": "code",
   "execution_count": 19,
   "metadata": {},
   "outputs": [],
   "source": [
    "from qdev_wrappers.fitting.fitters import CosineFitter"
   ]
  },
  {
   "cell_type": "code",
   "execution_count": null,
   "metadata": {},
   "outputs": [],
   "source": []
  },
  {
   "cell_type": "code",
   "execution_count": null,
   "metadata": {},
   "outputs": [],
   "source": []
  }
 ],
 "metadata": {
  "kernelspec": {
   "display_name": "Python 3",
   "language": "python",
   "name": "python3"
  },
  "language_info": {
   "codemirror_mode": {
    "name": "ipython",
    "version": 3
   },
   "file_extension": ".py",
   "mimetype": "text/x-python",
   "name": "python",
   "nbconvert_exporter": "python",
   "pygments_lexer": "ipython3",
   "version": "3.6.7"
  }
 },
 "nbformat": 4,
 "nbformat_minor": 2
}
