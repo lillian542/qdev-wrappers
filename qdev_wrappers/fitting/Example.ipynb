{
 "cells": [
  {
   "cell_type": "code",
   "execution_count": 1,
   "metadata": {},
   "outputs": [
    {
     "name": "stderr",
     "output_type": "stream",
     "text": [
      "User schema at /Users/Lillian/qcodesrc_schema.json not found.User settings won't be validated\n",
      "no config file found at /Users/Lillian/Qcodes/My stuff/mainfolder/data/local_scripts/instr.config, will try general\n",
      "no config file found at /Users/Lillian/Qcodes/My stuff/instr.config\n"
     ]
    }
   ],
   "source": [
    "import qcodes as qc\n",
    "from qdev_wrappers.file_setup import my_init\n",
    "qc.config.add(\"mainfolder\", \"./mainfolder\", value_type=\"string\", description=\"Location of data\", default=\"./mainfolder\")\n",
    "station = qc.Station()\n",
    "my_init('data', station)"
   ]
  },
  {
   "cell_type": "code",
   "execution_count": 2,
   "metadata": {},
   "outputs": [],
   "source": [
    "from qdev_wrappers.fitting.Converter import SQL_Converter, Legacy_Converter, data_to_dict\n",
    "from qdev_wrappers.fitting.Fitclasses import T1, T2\n",
    "from qdev_wrappers.fitting.Fitter import Fitter1D, Fitter_2Ddata_1Dfunction, fit_data\n",
    "from qdev_wrappers.fitting.AnalysisToSQL import is_table, make_table, fit_to_sql\n",
    "from qdev_wrappers.fitting.RoughPlotting import plot_fit1d, plot_fit2d_slice\n",
    "\n",
    "from qdev_wrappers.show_num import show_num\n",
    "from qcodes.dataset.plotting import plot_by_id"
   ]
  },
  {
   "cell_type": "markdown",
   "metadata": {},
   "source": [
    "### Fitting, step 1: convert your dataset into a dictionary\n",
    "\n",
    "Convert dataset with run id 4 from SQL, store in 'data'. This, incidentally, is a 1D dataset."
   ]
  },
  {
   "cell_type": "code",
   "execution_count": 11,
   "metadata": {},
   "outputs": [],
   "source": [
    "data = data_to_dict(4)"
   ]
  },
  {
   "cell_type": "markdown",
   "metadata": {},
   "source": [
    "This can also be done with the 'old' datasets. In this case, this is a 2D dataset, containing multiple measurements at each point (mag0, phase0 and raw output):"
   ]
  },
  {
   "cell_type": "code",
   "execution_count": 13,
   "metadata": {},
   "outputs": [],
   "source": [
    "data2 = data_to_dict(621, datatype = 'qcodes_legacy', samplefolder = None)"
   ]
  },
  {
   "cell_type": "markdown",
   "metadata": {},
   "source": [
    "### Fitting step 2: Performing fit, getting fit dictionary\n",
    "\n",
    "To get a fit, the data dictionary goes into the fitter along with a fitclass (options are currently T1() and T2()). \n",
    "\n",
    "Set *x = 'data_name_for_x'*, *y = 'data_name_for_y\"* (and optionally *z = \"data_name_for_z\"*). If you are uncertain of the names of the variables in the data, they can be read in the data dictionary, or you can enter something random for x and y and it will throw an error that gives you a list of your options.\n"
   ]
  },
  {
   "cell_type": "code",
   "execution_count": 5,
   "metadata": {},
   "outputs": [],
   "source": [
    "fit = fit_data(data, T1(), {'x':'pulse_readout_delay'}, {'y':'data'})"
   ]
  },
  {
   "cell_type": "markdown",
   "metadata": {},
   "source": [
    "For the 2D datasets, at the moment, have only one option, which is to get back fits for slices of the data. Each slice is taken at a particular setpoint, and the fit for that setpoint is listed in the fit dictionary.\n",
    "\n",
    "As with the 1D example, you currently specify the axes yourself. You should also choose along which direction you want the cuts to be taken.\n"
   ]
  },
  {
   "cell_type": "code",
   "execution_count": 14,
   "metadata": {},
   "outputs": [],
   "source": [
    "fit2 = fit_data(data2, T2(), {'x':'pi_pulse_dur_set'}, {'y':'rec_ctrl_demod_freq_0_mag'}, ['qubit_rs_frequency_set'])"
   ]
  },
  {
   "cell_type": "markdown",
   "metadata": {},
   "source": [
    "### Saving your fit to an SQL database (in progress)\n",
    "\n",
    "If you want to save the analysis information, you can use this (in-progress) function, which will create (if such a thing does not already exist) a new SQL database called *analysis.db* in the same folder as your experiments. \n",
    "\n",
    "It will then save an SQL table with the parameters and an estimate based on the fit, as well as an id that matches the id for the corresponding data point in the experiments database.\n"
   ]
  },
  {
   "cell_type": "code",
   "execution_count": 9,
   "metadata": {},
   "outputs": [
    {
     "name": "stdout",
     "output_type": "stream",
     "text": [
      "Table analysis_4_T1fit_4 created\n",
      "Table analysis_621_T2fit_4 created\n"
     ]
    }
   ],
   "source": [
    "fit_to_sql(fit)\n",
    "fit_to_sql(fit2)"
   ]
  },
  {
   "cell_type": "markdown",
   "metadata": {},
   "source": [
    "### Plotting your fit to make sure nothing weird has happened\n",
    "\n",
    "To see how your fit looks compared to the data, there is currently only rough plotting from the dictionary. Pretty plotting from the saved dataset and analysis is for the near future.\n",
    "\n",
    "The first dataset was 1D, so:"
   ]
  },
  {
   "cell_type": "code",
   "execution_count": 10,
   "metadata": {},
   "outputs": [
    {
     "ename": "KeyError",
     "evalue": "'xdata'",
     "output_type": "error",
     "traceback": [
      "\u001b[0;31m---------------------------------------------------------------------------\u001b[0m",
      "\u001b[0;31mKeyError\u001b[0m                                  Traceback (most recent call last)",
      "\u001b[0;32m<ipython-input-10-fd353643d33e>\u001b[0m in \u001b[0;36m<module>\u001b[0;34m()\u001b[0m\n\u001b[0;32m----> 1\u001b[0;31m \u001b[0mplot_fit1d\u001b[0m\u001b[0;34m(\u001b[0m\u001b[0mdata\u001b[0m\u001b[0;34m,\u001b[0m \u001b[0mfit\u001b[0m\u001b[0;34m,\u001b[0m \u001b[0mT1\u001b[0m\u001b[0;34m(\u001b[0m\u001b[0;34m)\u001b[0m\u001b[0;34m)\u001b[0m\u001b[0;34m\u001b[0m\u001b[0m\n\u001b[0m\u001b[1;32m      2\u001b[0m \u001b[0;34m\u001b[0m\u001b[0m\n\u001b[1;32m      3\u001b[0m \u001b[0;31m#for comparison to original data:\u001b[0m\u001b[0;34m\u001b[0m\u001b[0;34m\u001b[0m\u001b[0m\n\u001b[1;32m      4\u001b[0m \u001b[0mplot_by_id\u001b[0m\u001b[0;34m(\u001b[0m\u001b[0;36m4\u001b[0m\u001b[0;34m)\u001b[0m\u001b[0;34m\u001b[0m\u001b[0m\n",
      "\u001b[0;32m~/qdev-wrappers/qdev_wrappers/fitting/RoughPlotting.py\u001b[0m in \u001b[0;36mplot_fit1d\u001b[0;34m(data, fit1d, fitclass, plottype)\u001b[0m\n\u001b[1;32m      8\u001b[0m     \u001b[0maxes\u001b[0m \u001b[0;34m=\u001b[0m \u001b[0mplot\u001b[0m\u001b[0;34m.\u001b[0m\u001b[0madd_axes\u001b[0m\u001b[0;34m(\u001b[0m\u001b[0;34m[\u001b[0m\u001b[0;36m0.1\u001b[0m\u001b[0;34m,\u001b[0m \u001b[0;36m0.1\u001b[0m\u001b[0;34m,\u001b[0m \u001b[0;36m0.8\u001b[0m\u001b[0;34m,\u001b[0m \u001b[0;36m0.8\u001b[0m\u001b[0;34m]\u001b[0m\u001b[0;34m)\u001b[0m\u001b[0;34m\u001b[0m\u001b[0m\n\u001b[1;32m      9\u001b[0m \u001b[0;34m\u001b[0m\u001b[0m\n\u001b[0;32m---> 10\u001b[0;31m     \u001b[0mxname\u001b[0m \u001b[0;34m=\u001b[0m \u001b[0mfit1d\u001b[0m\u001b[0;34m[\u001b[0m\u001b[0;34m'inferred_from'\u001b[0m\u001b[0;34m]\u001b[0m\u001b[0;34m[\u001b[0m\u001b[0;34m'xdata'\u001b[0m\u001b[0;34m]\u001b[0m\u001b[0;34m\u001b[0m\u001b[0m\n\u001b[0m\u001b[1;32m     11\u001b[0m     \u001b[0mxdata\u001b[0m \u001b[0;34m=\u001b[0m \u001b[0mdata\u001b[0m\u001b[0;34m[\u001b[0m\u001b[0mxname\u001b[0m\u001b[0;34m]\u001b[0m\u001b[0;34m[\u001b[0m\u001b[0;34m'data'\u001b[0m\u001b[0;34m]\u001b[0m\u001b[0;34m\u001b[0m\u001b[0m\n\u001b[1;32m     12\u001b[0m     \u001b[0mxlabel\u001b[0m \u001b[0;34m=\u001b[0m \u001b[0mdata\u001b[0m\u001b[0;34m[\u001b[0m\u001b[0mxname\u001b[0m\u001b[0;34m]\u001b[0m\u001b[0;34m[\u001b[0m\u001b[0;34m'label'\u001b[0m\u001b[0;34m]\u001b[0m\u001b[0;34m\u001b[0m\u001b[0m\n",
      "\u001b[0;31mKeyError\u001b[0m: 'xdata'"
     ]
    },
    {
     "data": {
      "image/png": "[encoded data removed]",
      "text/plain": [
       "<matplotlib.figure.Figure at 0x1170b5780>"
      ]
     },
     "metadata": {},
     "output_type": "display_data"
    }
   ],
   "source": [
    "plot_fit1d(data, fit, T1())\n",
    "\n",
    "#for comparison to original data:\n",
    "plot_by_id(4)"
   ]
  },
  {
   "cell_type": "markdown",
   "metadata": {},
   "source": [
    "For the 2D dataset, this rough plotting can only plot a cut, so it is necessary to tell it which setpoint you want to see the fit from. If you aren't sure of the setpoints, you can either find them in the fit dictionary (long and annoying to read), or just suggest something, and if that isn't on the list of setpoints, then you will get a list of options to chose from."
   ]
  },
  {
   "cell_type": "code",
   "execution_count": null,
   "metadata": {},
   "outputs": [],
   "source": [
    "plot_fit2d_slice(data2, fit2, T2(), setvalue = 5.65600000e+09)"
   ]
  },
  {
   "cell_type": "code",
   "execution_count": null,
   "metadata": {},
   "outputs": [],
   "source": [
    "#for comparison to original data:\n",
    "show_num(621)"
   ]
  },
  {
   "cell_type": "code",
   "execution_count": null,
   "metadata": {},
   "outputs": [],
   "source": []
  },
  {
   "cell_type": "code",
   "execution_count": null,
   "metadata": {},
   "outputs": [],
   "source": []
  }
 ],
 "metadata": {
  "kernelspec": {
   "display_name": "Python 3",
   "language": "python",
   "name": "python3"
  },
  "language_info": {
   "codemirror_mode": {
    "name": "ipython",
    "version": 3
   },
   "file_extension": ".py",
   "mimetype": "text/x-python",
   "name": "python",
   "nbconvert_exporter": "python",
   "pygments_lexer": "ipython3",
   "version": "3.6.5"
  }
 },
 "nbformat": 4,
 "nbformat_minor": 2
}
