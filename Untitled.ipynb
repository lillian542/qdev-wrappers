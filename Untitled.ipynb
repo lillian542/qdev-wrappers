{
 "cells": [
  {
   "cell_type": "code",
   "execution_count": 1,
   "metadata": {},
   "outputs": [
    {
     "name": "stderr",
     "output_type": "stream",
     "text": [
      "User schema at /Users/Lillian/qcodesrc_schema.json not found.User settings won't be validated\n"
     ]
    }
   ],
   "source": [
    "from qdev_wrappers.fitting.least_squares_fitter import LeastSquaresFitter\n",
    "from qdev_wrappers.fitting.least_squares_models import DecayT1\n",
    "from qdev_wrappers.fitting.guess import ExpDecayGuess"
   ]
  },
  {
   "cell_type": "code",
   "execution_count": 2,
   "metadata": {},
   "outputs": [],
   "source": [
    "fitter = LeastSquaresFitter('test', DecayT1(), ExpDecayGuess())"
   ]
  },
  {
   "cell_type": "code",
   "execution_count": 4,
   "metadata": {},
   "outputs": [
    {
     "data": {
      "text/plain": [
       "OrderedDict([('a', {'label': '$a$', 'unit': ''}),\n",
       "             ('T', {'label': '$T$', 'unit': 's'}),\n",
       "             ('c', {'label': '$c$', 'unit': ''})])"
      ]
     },
     "execution_count": 4,
     "metadata": {},
     "output_type": "execute_result"
    }
   ],
   "source": [
    "fitter.model.model_parameters"
   ]
  },
  {
   "cell_type": "code",
   "execution_count": 5,
   "metadata": {},
   "outputs": [
    {
     "data": {
      "text/plain": [
       "odict_items([('a', {'label': '$a$', 'unit': ''}), ('T', {'label': '$T$', 'unit': 's'}), ('c', {'label': '$c$', 'unit': ''})])"
      ]
     },
     "execution_count": 5,
     "metadata": {},
     "output_type": "execute_result"
    }
   ],
   "source": [
    "fitter.model.model_parameters.items()"
   ]
  },
  {
   "cell_type": "code",
   "execution_count": null,
   "metadata": {},
   "outputs": [],
   "source": []
  }
 ],
 "metadata": {
  "kernelspec": {
   "display_name": "Python 3",
   "language": "python",
   "name": "python3"
  },
  "language_info": {
   "codemirror_mode": {
    "name": "ipython",
    "version": 3
   },
   "file_extension": ".py",
   "mimetype": "text/x-python",
   "name": "python",
   "nbconvert_exporter": "python",
   "pygments_lexer": "ipython3",
   "version": "3.6.5"
  }
 },
 "nbformat": 4,
 "nbformat_minor": 2
}
